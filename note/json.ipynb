{
 "cells": [
  {
   "cell_type": "code",
   "execution_count": 1,
   "id": "0b90c7d0-1ba2-447b-bbd0-28d35b9d1c20",
   "metadata": {},
   "outputs": [],
   "source": [
    "import findspark\n",
    "findspark.init()"
   ]
  },
  {
   "cell_type": "code",
   "execution_count": 1,
   "id": "0e4c1d92-93e8-4ef5-a21d-69e2e0a6ce85",
   "metadata": {},
   "outputs": [
    {
     "name": "stderr",
     "output_type": "stream",
     "text": [
      "24/08/16 12:56:19 WARN Utils: Your hostname, LAPTOP-RALEOMTL resolves to a loopback address: 127.0.1.1; using 10.255.255.254 instead (on interface lo)\n",
      "24/08/16 12:56:19 WARN Utils: Set SPARK_LOCAL_IP if you need to bind to another address\n",
      "Setting default log level to \"WARN\".\n",
      "To adjust logging level use sc.setLogLevel(newLevel). For SparkR, use setLogLevel(newLevel).\n",
      "24/08/16 12:56:19 WARN NativeCodeLoader: Unable to load native-hadoop library for your platform... using builtin-java classes where applicable\n",
      "24/08/16 12:56:20 WARN Utils: Service 'SparkUI' could not bind on port 4040. Attempting port 4041.\n"
     ]
    }
   ],
   "source": [
    "import pyspark # only run after findspark.init()\n",
    "from pyspark.sql import SparkSession\n",
    "spark = SparkSession.builder.getOrCreate()"
   ]
  },
  {
   "cell_type": "code",
   "execution_count": 2,
   "id": "6462ed32-166d-40bc-bea0-8b9835a791ab",
   "metadata": {},
   "outputs": [],
   "source": [
    "# moviesDF = spark.read.json('/home/diginori/code/mvstar/data/movies/year=2015/data.json', multiLine=True)\n",
    "moviesDF = spark.read.json('/home/diginori/code/mvstar/data/movies', multiLine=True)"
   ]
  },
  {
   "cell_type": "code",
   "execution_count": 3,
   "id": "f108a5f4-199e-4d3b-86b5-4cd3b4acb78d",
   "metadata": {
    "scrolled": true
   },
   "outputs": [
    {
     "data": {
      "text/plain": [
       "[Row(companys=[Row(companyCd='2016841', companyNm='(주)하이브미디어코프')], directors=[Row(peopleNm='허진호')], genreAlt='사극', movieCd='20184571', movieNm='천문: 하늘에 묻는다', movieNmEn='Forbidden Dream', nationAlt='한국', openDt='20191226', prdtStatNm='개봉', prdtYear='2019', repGenreNm='사극', repNationNm='한국', typeNm='장편', year=2019),\n",
       " Row(companys=[Row(companyCd='20186621', companyNm='필름에이픽쳐스'), Row(companyCd='20142369', companyNm='(유)조이앤시네마')], directors=[Row(peopleNm='임경택')], genreAlt='액션', movieCd='20184187', movieNm='언니', movieNmEn='No Mercy', nationAlt='한국', openDt='20190101', prdtStatNm='개봉', prdtYear='2018', repGenreNm='액션', repNationNm='한국', typeNm='장편', year=2019),\n",
       " Row(companys=[], directors=[Row(peopleNm='나딘 라바키')], genreAlt='드라마', movieCd='20184896', movieNm='가버나움', movieNmEn='Capharnaum', nationAlt='기타', openDt='20190124', prdtStatNm='개봉', prdtYear='2018', repGenreNm='드라마', repNationNm='기타', typeNm='장편', year=2019),\n",
       " Row(companys=[], directors=[Row(peopleNm='채드 스타헬스키')], genreAlt='액션,범죄,스릴러', movieCd='20196655', movieNm='존 윅 3: 파라벨룸', movieNmEn='John Wick: Chapter 3 - Parabellum', nationAlt='미국', openDt='20190626', prdtStatNm='개봉', prdtYear='2019', repGenreNm='액션', repNationNm='미국', typeNm='장편', year=2019),\n",
       " Row(companys=[Row(companyCd='20230135', companyNm='미디어나무(주)')], directors=[Row(peopleNm='박주환')], genreAlt='다큐멘터리', movieCd='20182280', movieNm='졸업', movieNmEn='Graduation', nationAlt='한국', openDt='20191107', prdtStatNm='개봉', prdtYear='2018', repGenreNm='다큐멘터리', repNationNm='한국', typeNm='장편', year=2019)]"
      ]
     },
     "execution_count": 3,
     "metadata": {},
     "output_type": "execute_result"
    }
   ],
   "source": [
    "moviesDF.head(5)"
   ]
  },
  {
   "cell_type": "code",
   "execution_count": 4,
   "id": "95732030-7336-4125-ad7b-7121cf3cc27f",
   "metadata": {},
   "outputs": [
    {
     "name": "stdout",
     "output_type": "stream",
     "text": [
      "root\n",
      " |-- companys: array (nullable = true)\n",
      " |    |-- element: struct (containsNull = true)\n",
      " |    |    |-- companyCd: string (nullable = true)\n",
      " |    |    |-- companyNm: string (nullable = true)\n",
      " |-- directors: array (nullable = true)\n",
      " |    |-- element: struct (containsNull = true)\n",
      " |    |    |-- peopleNm: string (nullable = true)\n",
      " |-- genreAlt: string (nullable = true)\n",
      " |-- movieCd: string (nullable = true)\n",
      " |-- movieNm: string (nullable = true)\n",
      " |-- movieNmEn: string (nullable = true)\n",
      " |-- nationAlt: string (nullable = true)\n",
      " |-- openDt: string (nullable = true)\n",
      " |-- prdtStatNm: string (nullable = true)\n",
      " |-- prdtYear: string (nullable = true)\n",
      " |-- repGenreNm: string (nullable = true)\n",
      " |-- repNationNm: string (nullable = true)\n",
      " |-- typeNm: string (nullable = true)\n",
      " |-- year: integer (nullable = true)\n",
      "\n"
     ]
    }
   ],
   "source": [
    "moviesDF.printSchema()"
   ]
  },
  {
   "cell_type": "code",
   "execution_count": 19,
   "id": "78027bbe-4865-4403-adc1-075647c7ec15",
   "metadata": {},
   "outputs": [
    {
     "data": {
      "text/plain": [
       "pyspark.sql.dataframe.DataFrame"
      ]
     },
     "execution_count": 19,
     "metadata": {},
     "output_type": "execute_result"
    }
   ],
   "source": [
    "type(moviesDF)"
   ]
  },
  {
   "cell_type": "code",
   "execution_count": 20,
   "id": "59b71115-2293-4a2b-ae5e-a9bc6b75fa3e",
   "metadata": {},
   "outputs": [
    {
     "data": {
      "text/plain": [
       "10213"
      ]
     },
     "execution_count": 20,
     "metadata": {},
     "output_type": "execute_result"
    }
   ],
   "source": [
    "moviesDF.count()"
   ]
  },
  {
   "cell_type": "code",
   "execution_count": null,
   "id": "87754a58-d55c-4221-97b9-05b5a5ba34e7",
   "metadata": {},
   "outputs": [],
   "source": []
  }
 ],
 "metadata": {
  "kernelspec": {
   "display_name": "Python 3 (ipykernel)",
   "language": "python",
   "name": "python3"
  },
  "language_info": {
   "codemirror_mode": {
    "name": "ipython",
    "version": 3
   },
   "file_extension": ".py",
   "mimetype": "text/x-python",
   "name": "python",
   "nbconvert_exporter": "python",
   "pygments_lexer": "ipython3",
   "version": "3.11.9"
  }
 },
 "nbformat": 4,
 "nbformat_minor": 5
}
